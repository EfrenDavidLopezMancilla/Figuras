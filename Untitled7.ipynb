{
  "nbformat": 4,
  "nbformat_minor": 0,
  "metadata": {
    "colab": {
      "provenance": [],
      "authorship_tag": "ABX9TyMSqMPhVt+OOFN0KFtMi/dS",
      "include_colab_link": true
    },
    "kernelspec": {
      "name": "python3",
      "display_name": "Python 3"
    },
    "language_info": {
      "name": "python"
    }
  },
  "cells": [
    {
      "cell_type": "markdown",
      "metadata": {
        "id": "view-in-github",
        "colab_type": "text"
      },
      "source": [
        "<a href=\"https://colab.research.google.com/github/EfrenDavidLopezMancilla/Figuras/blob/main/Untitled7.ipynb\" target=\"_parent\"><img src=\"https://colab.research.google.com/assets/colab-badge.svg\" alt=\"Open In Colab\"/></a>"
      ]
    },
    {
      "cell_type": "markdown",
      "source": [
        "Pedir base 1, base 2 y altura de un trapecio poara sacar su area.\n",
        "ELABORADO POR EFREN DAVID LOPEZ MANCILLA 02/09/2022\n"
      ],
      "metadata": {
        "id": "31WmuJWb2AxU"
      }
    },
    {
      "cell_type": "code",
      "execution_count": 3,
      "metadata": {
        "colab": {
          "base_uri": "https://localhost:8080/"
        },
        "id": "FYksNKrdzq34",
        "outputId": "3ced9d9f-4297-4907-d8d1-ec36be798c0d"
      },
      "outputs": [
        {
          "output_type": "stream",
          "name": "stdout",
          "text": [
            "Ingresa el valor de la baseA: 7\n",
            "Ingresa el valor de la baseB: 0\n",
            "Ingresa el valor de la altura8\n",
            "El resultado es: \n"
          ]
        },
        {
          "output_type": "execute_result",
          "data": {
            "text/plain": [
              "(None, '28.0')"
            ]
          },
          "metadata": {},
          "execution_count": 3
        }
      ],
      "source": [
        "def areaTrapecio(baseA, baseB, altura):\n",
        "  resultado= ((baseA + baseB) * altura)/2\n",
        "  return resultado\n",
        "dato = int (input(\"Ingresa el valor de la baseA: \"))\n",
        "dato1 = int (input(\"Ingresa el valor de la baseB: \"))\n",
        "dato2 = int (input(\"Ingresa el valor de la altura\"))\n",
        "area = areaTrapecio (dato, dato1, dato2)\n",
        "print ((\"El resultado es: \")), str(area)"
      ]
    }
  ]
}