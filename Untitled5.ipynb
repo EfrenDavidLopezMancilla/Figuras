{
  "nbformat": 4,
  "nbformat_minor": 0,
  "metadata": {
    "colab": {
      "name": "Untitled5.ipynb",
      "provenance": [],
      "authorship_tag": "ABX9TyMTUZ2POH+HxHAGgxnPA6e8",
      "include_colab_link": true
    },
    "kernelspec": {
      "name": "python3",
      "display_name": "Python 3"
    },
    "language_info": {
      "name": "python"
    }
  },
  "cells": [
    {
      "cell_type": "markdown",
      "metadata": {
        "id": "view-in-github",
        "colab_type": "text"
      },
      "source": [
        "<a href=\"https://colab.research.google.com/github/EfrenDavidLopezMancilla/Figuras/blob/main/Untitled5.ipynb\" target=\"_parent\"><img src=\"https://colab.research.google.com/assets/colab-badge.svg\" alt=\"Open In Colab\"/></a>"
      ]
    },
    {
      "cell_type": "code",
      "execution_count": 1,
      "metadata": {
        "colab": {
          "base_uri": "https://localhost:8080/"
        },
        "id": "HPLXuxDblCwM",
        "outputId": "f1b923b8-497f-4d1a-c3aa-c04bc80d9374"
      },
      "outputs": [
        {
          "output_type": "stream",
          "name": "stdout",
          "text": [
            "Ingresa el valor de la base: 6\n",
            "Ingresa el valor de la altura: 3\n",
            "El resultado es: \n"
          ]
        },
        {
          "output_type": "execute_result",
          "data": {
            "text/plain": [
              "(None, '18')"
            ]
          },
          "metadata": {},
          "execution_count": 1
        }
      ],
      "source": [
        "def areaRectangulo(ancho, alto):\n",
        "  resultado= (ancho * alto)\n",
        "  return resultado\n",
        "dato = int (input(\"Ingresa el valor de la base: \"))\n",
        "dato1 = int (input(\"Ingresa el valor de la altura: \"))\n",
        "area = areaRectangulo (dato, dato1)\n",
        "print ((\"El resultado es: \")), str(area)"
      ]
    }
  ]
}