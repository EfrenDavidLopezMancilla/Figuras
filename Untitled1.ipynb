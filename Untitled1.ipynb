{
  "nbformat": 4,
  "nbformat_minor": 0,
  "metadata": {
    "colab": {
      "name": "Untitled1.ipynb",
      "provenance": [],
      "authorship_tag": "ABX9TyNmoZ/q7w20alot0ZBz/usN",
      "include_colab_link": true
    },
    "kernelspec": {
      "name": "python3",
      "display_name": "Python 3"
    },
    "language_info": {
      "name": "python"
    }
  },
  "cells": [
    {
      "cell_type": "markdown",
      "metadata": {
        "id": "view-in-github",
        "colab_type": "text"
      },
      "source": [
        "<a href=\"https://colab.research.google.com/github/EfrenDavidLopezMancilla/Figuras/blob/main/Untitled1.ipynb\" target=\"_parent\"><img src=\"https://colab.research.google.com/assets/colab-badge.svg\" alt=\"Open In Colab\"/></a>"
      ]
    },
    {
      "cell_type": "code",
      "execution_count": 1,
      "metadata": {
        "colab": {
          "base_uri": "https://localhost:8080/"
        },
        "id": "-R8a7RoQMqF0",
        "outputId": "0b2564e2-744f-4eef-98ad-d510f30dfe07"
      },
      "outputs": [
        {
          "output_type": "stream",
          "name": "stdout",
          "text": [
            "Ingresa el valor de la base: 12\n",
            "Ingresa el valor de la altura: 32\n",
            "El resultado es: \n"
          ]
        },
        {
          "output_type": "execute_result",
          "data": {
            "text/plain": [
              "(None, '192.0')"
            ]
          },
          "metadata": {},
          "execution_count": 1
        }
      ],
      "source": [
        "def areaTriangulo(base, altura):\n",
        "  resultado= (base * altura)/2\n",
        "  return resultado\n",
        "dato = int (input(\"Ingresa el valor de la base: \"))\n",
        "dato1 = int (input(\"Ingresa el valor de la altura: \"))\n",
        "area = areaTriangulo (dato, dato1)\n",
        "print ((\"El resultado es: \")), str(area)"
      ]
    }
  ]
}