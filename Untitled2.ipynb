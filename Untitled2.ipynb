{
  "nbformat": 4,
  "nbformat_minor": 0,
  "metadata": {
    "colab": {
      "name": "Untitled2.ipynb",
      "provenance": [],
      "authorship_tag": "ABX9TyOxgsqLygomWZWLKDaiI/q7",
      "include_colab_link": true
    },
    "kernelspec": {
      "name": "python3",
      "display_name": "Python 3"
    },
    "language_info": {
      "name": "python"
    }
  },
  "cells": [
    {
      "cell_type": "markdown",
      "metadata": {
        "id": "view-in-github",
        "colab_type": "text"
      },
      "source": [
        "<a href=\"https://colab.research.google.com/github/EfrenDavidLopezMancilla/Figuras/blob/main/Untitled2.ipynb\" target=\"_parent\"><img src=\"https://colab.research.google.com/assets/colab-badge.svg\" alt=\"Open In Colab\"/></a>"
      ]
    },
    {
      "cell_type": "code",
      "execution_count": 15,
      "metadata": {
        "colab": {
          "base_uri": "https://localhost:8080/"
        },
        "id": "JRYNbJPDPMgI",
        "outputId": "9e1542d5-310e-42a3-bf54-3aa86e1a2669"
      },
      "outputs": [
        {
          "output_type": "stream",
          "name": "stdout",
          "text": [
            "Ingresa el valor del radio del circulo: 8\n",
            "El area del circulo es: 4\n",
            "El resultado es: \n"
          ]
        },
        {
          "output_type": "execute_result",
          "data": {
            "text/plain": [
              "(None, '')"
            ]
          },
          "metadata": {},
          "execution_count": 15
        }
      ],
      "source": [
        "from traitlets.traitlets import validate\n",
        "def areaCirculo(area, radio, PII):\n",
        "  v = PII*(radio * radio);\n",
        "  PII = 3.1416;\n",
        "  return v\n",
        "dato = int (input(\"Ingresa el valor del radio del circulo: \"))\n",
        "dato1 = int (input(\"El area del circulo es: \"));\n",
        "\n",
        "print ((\"El resultado es: \")), str()"
      ]
    }
  ]
}